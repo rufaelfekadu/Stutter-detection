{
 "cells": [
  {
   "cell_type": "code",
   "execution_count": 1,
   "metadata": {},
   "outputs": [],
   "source": [
    "import pandas as pd\n",
    "import numpy as np"
   ]
  },
  {
   "cell_type": "markdown",
   "metadata": {},
   "source": [
    "## Sep28k"
   ]
  },
  {
   "cell_type": "code",
   "execution_count": 2,
   "metadata": {},
   "outputs": [],
   "source": [
    "df = pd.read_csv('../datasets/sep28k/SEP-28k_labels_new.csv')"
   ]
  },
  {
   "cell_type": "code",
   "execution_count": 3,
   "metadata": {},
   "outputs": [
    {
     "name": "stdout",
     "output_type": "stream",
     "text": [
      "Fleiss' Kappa for category Unsure: 0.02\n",
      "Fleiss' Kappa for category PoorAudioQuality: 0.19\n",
      "Fleiss' Kappa for category Prolongation: 0.24\n",
      "Fleiss' Kappa for category Block: 0.12\n",
      "Fleiss' Kappa for category SoundRep: 0.41\n",
      "Fleiss' Kappa for category WordRep: 0.64\n",
      "Fleiss' Kappa for category DifficultToUnderstand: 0.16\n",
      "Fleiss' Kappa for category Interjection: 0.57\n",
      "Fleiss' Kappa for category NoStutteredWords: 0.40\n",
      "Fleiss' Kappa for category NaturalPause: 0.09\n",
      "Fleiss' Kappa for category Music: 0.80\n"
     ]
    }
   ],
   "source": [
    "from statsmodels.stats import inter_rater as irr\n",
    "label_df = df.iloc[:,5:-1]\n",
    "def calculate_agreement(label_df):\n",
    "    for col in label_df.columns:\n",
    "        temp = pd.DataFrame()\n",
    "        temp['pos'] = label_df[col]\n",
    "        temp['neg'] = temp['pos'].apply(lambda x: 3-x )\n",
    "        # compute Fleiss' Kappa for the current category\n",
    "        fleiss_kappa = irr.fleiss_kappa(temp.values, method='fleiss')\n",
    "        print(f\"Fleiss' Kappa for category {col}: {fleiss_kappa:.2f}\")\n",
    "calculate_agreement(label_df)"
   ]
  },
  {
   "cell_type": "code",
   "execution_count": 4,
   "metadata": {},
   "outputs": [
    {
     "data": {
      "text/plain": [
       "split\n",
       "train    19451\n",
       "val       1684\n",
       "test       721\n",
       "Name: count, dtype: int64"
      ]
     },
     "execution_count": 4,
     "metadata": {},
     "output_type": "execute_result"
    }
   ],
   "source": [
    "from sklearn.model_selection import train_test_split\n",
    "\n",
    "df['split'] = 'train'\n",
    "df.loc[train_test_split(df.index, test_size=0.11, random_state=42)[1], 'split'] = 'temp'\n",
    "df.loc[train_test_split(df[df['split'] == 'temp'].index, test_size=0.7, random_state=42)[1], 'split'] = 'val'\n",
    "df['split'] = df['split'].replace('temp', 'test')\n",
    "df['split'].value_counts()"
   ]
  },
  {
   "cell_type": "code",
   "execution_count": 5,
   "metadata": {},
   "outputs": [],
   "source": [
    "df.to_csv('../outputs/sep28k/SEP-28k_labels_new_split.csv', index=False)"
   ]
  },
  {
   "cell_type": "markdown",
   "metadata": {},
   "source": [
    "## Fluencybank"
   ]
  },
  {
   "cell_type": "code",
   "execution_count": 10,
   "metadata": {},
   "outputs": [
    {
     "name": "stdout",
     "output_type": "stream",
     "text": [
      "Fleiss' Kappa for category Unsure: 0.07\n",
      "Fleiss' Kappa for category PoorAudioQuality: nan\n",
      "Fleiss' Kappa for category Prolongation: 0.35\n",
      "Fleiss' Kappa for category Block: 0.15\n",
      "Fleiss' Kappa for category SoundRep: 0.39\n",
      "Fleiss' Kappa for category WordRep: 0.50\n",
      "Fleiss' Kappa for category DifficultToUnderstand: 0.23\n",
      "Fleiss' Kappa for category Interjection: 0.58\n",
      "Fleiss' Kappa for category NoStutteredWords: 0.54\n",
      "Fleiss' Kappa for category NaturalPause: 0.05\n",
      "Fleiss' Kappa for category Music: nan\n"
     ]
    },
    {
     "name": "stderr",
     "output_type": "stream",
     "text": [
      "/fsx/homes/Rufael.Marew@mbzuai.ac.ae/miniconda3/envs/sep/lib/python3.10/site-packages/statsmodels/stats/inter_rater.py:266: RuntimeWarning: invalid value encountered in scalar divide\n",
      "  kappa = (p_mean - p_mean_exp) / (1- p_mean_exp)\n",
      "/fsx/homes/Rufael.Marew@mbzuai.ac.ae/miniconda3/envs/sep/lib/python3.10/site-packages/statsmodels/stats/inter_rater.py:266: RuntimeWarning: invalid value encountered in scalar divide\n",
      "  kappa = (p_mean - p_mean_exp) / (1- p_mean_exp)\n"
     ]
    },
    {
     "data": {
      "text/plain": [
       "split\n",
       "train    3354\n",
       "val       297\n",
       "test      296\n",
       "Name: count, dtype: int64"
      ]
     },
     "execution_count": 10,
     "metadata": {},
     "output_type": "execute_result"
    }
   ],
   "source": [
    "# read the data\n",
    "import pandas as pd\n",
    "import numpy as np\n",
    "df = pd.read_csv('../datasets/fluencybank/fluencybank_labels_new.csv')\n",
    "calculate_agreement(df.iloc[:,5:-1])\n",
    "\n",
    "# unique_clips = df['EpId'].unique()\n",
    "# np.random.shuffle(unique_clips) \n",
    "# df['split'] = df['EpId'].apply(lambda x: 'train' if x in unique_clips[:26] else 'val' if x in unique_clips[26:29] else 'test')\n",
    "\n",
    "df['split'] = 'train'\n",
    "df.loc[train_test_split(df.index, test_size=0.15, random_state=42)[1], 'split'] = 'temp'\n",
    "df.loc[train_test_split(df[df['split'] == 'temp'].index, test_size=0.5, random_state=42)[1], 'split'] = 'val'\n",
    "df['split'] = df['split'].replace('temp', 'test')\n",
    "\n",
    "df['split'].value_counts()"
   ]
  },
  {
   "cell_type": "code",
   "execution_count": 11,
   "metadata": {},
   "outputs": [],
   "source": [
    "df.to_csv('../outputs/fluencybank/fluencybank_labels_new_split.csv', index=False)"
   ]
  },
  {
   "cell_type": "code",
   "execution_count": 2,
   "metadata": {},
   "outputs": [
    {
     "data": {
      "text/html": [
       "<div>\n",
       "<style scoped>\n",
       "    .dataframe tbody tr th:only-of-type {\n",
       "        vertical-align: middle;\n",
       "    }\n",
       "\n",
       "    .dataframe tbody tr th {\n",
       "        vertical-align: top;\n",
       "    }\n",
       "\n",
       "    .dataframe thead th {\n",
       "        text-align: right;\n",
       "    }\n",
       "</style>\n",
       "<table border=\"1\" class=\"dataframe\">\n",
       "  <thead>\n",
       "    <tr style=\"text-align: right;\">\n",
       "      <th></th>\n",
       "      <th>annotation_id</th>\n",
       "      <th>start_time</th>\n",
       "      <th>end_time</th>\n",
       "      <th>RM</th>\n",
       "      <th>FP</th>\n",
       "      <th>SR</th>\n",
       "      <th>ISR</th>\n",
       "      <th>MUR</th>\n",
       "      <th>P</th>\n",
       "      <th>B</th>\n",
       "      <th>V</th>\n",
       "      <th>NV</th>\n",
       "      <th>T</th>\n",
       "      <th>annotator_id</th>\n",
       "      <th>media_file</th>\n",
       "    </tr>\n",
       "  </thead>\n",
       "  <tbody>\n",
       "    <tr>\n",
       "      <th>0</th>\n",
       "      <td>a58</td>\n",
       "      <td>1520</td>\n",
       "      <td>2360</td>\n",
       "      <td>0.0</td>\n",
       "      <td>0.0</td>\n",
       "      <td>0.0</td>\n",
       "      <td>0.0</td>\n",
       "      <td>0.0</td>\n",
       "      <td>1.0</td>\n",
       "      <td>0.0</td>\n",
       "      <td>0.0</td>\n",
       "      <td>0.0</td>\n",
       "      <td>1.0</td>\n",
       "      <td>I</td>\n",
       "      <td>24ma.wav</td>\n",
       "    </tr>\n",
       "    <tr>\n",
       "      <th>1</th>\n",
       "      <td>a59</td>\n",
       "      <td>2660</td>\n",
       "      <td>3440</td>\n",
       "      <td>0.0</td>\n",
       "      <td>0.0</td>\n",
       "      <td>0.0</td>\n",
       "      <td>0.0</td>\n",
       "      <td>0.0</td>\n",
       "      <td>1.0</td>\n",
       "      <td>0.0</td>\n",
       "      <td>0.0</td>\n",
       "      <td>0.0</td>\n",
       "      <td>1.0</td>\n",
       "      <td>I</td>\n",
       "      <td>24ma.wav</td>\n",
       "    </tr>\n",
       "    <tr>\n",
       "      <th>2</th>\n",
       "      <td>a73</td>\n",
       "      <td>4240</td>\n",
       "      <td>5920</td>\n",
       "      <td>0.0</td>\n",
       "      <td>0.0</td>\n",
       "      <td>0.0</td>\n",
       "      <td>0.0</td>\n",
       "      <td>0.0</td>\n",
       "      <td>1.0</td>\n",
       "      <td>0.0</td>\n",
       "      <td>0.0</td>\n",
       "      <td>0.0</td>\n",
       "      <td>1.0</td>\n",
       "      <td>I</td>\n",
       "      <td>24ma.wav</td>\n",
       "    </tr>\n",
       "    <tr>\n",
       "      <th>3</th>\n",
       "      <td>a74</td>\n",
       "      <td>13680</td>\n",
       "      <td>14300</td>\n",
       "      <td>0.0</td>\n",
       "      <td>0.0</td>\n",
       "      <td>0.0</td>\n",
       "      <td>0.0</td>\n",
       "      <td>0.0</td>\n",
       "      <td>0.0</td>\n",
       "      <td>0.0</td>\n",
       "      <td>1.0</td>\n",
       "      <td>0.0</td>\n",
       "      <td>1.0</td>\n",
       "      <td>I</td>\n",
       "      <td>24ma.wav</td>\n",
       "    </tr>\n",
       "    <tr>\n",
       "      <th>4</th>\n",
       "      <td>a61</td>\n",
       "      <td>23880</td>\n",
       "      <td>24340</td>\n",
       "      <td>0.0</td>\n",
       "      <td>0.0</td>\n",
       "      <td>0.0</td>\n",
       "      <td>0.0</td>\n",
       "      <td>0.0</td>\n",
       "      <td>1.0</td>\n",
       "      <td>0.0</td>\n",
       "      <td>0.0</td>\n",
       "      <td>0.0</td>\n",
       "      <td>0.0</td>\n",
       "      <td>I</td>\n",
       "      <td>24ma.wav</td>\n",
       "    </tr>\n",
       "  </tbody>\n",
       "</table>\n",
       "</div>"
      ],
      "text/plain": [
       "  annotation_id  start_time  end_time   RM   FP   SR  ISR  MUR    P    B    V  \\\n",
       "0           a58        1520      2360  0.0  0.0  0.0  0.0  0.0  1.0  0.0  0.0   \n",
       "1           a59        2660      3440  0.0  0.0  0.0  0.0  0.0  1.0  0.0  0.0   \n",
       "2           a73        4240      5920  0.0  0.0  0.0  0.0  0.0  1.0  0.0  0.0   \n",
       "3           a74       13680     14300  0.0  0.0  0.0  0.0  0.0  0.0  0.0  1.0   \n",
       "4           a61       23880     24340  0.0  0.0  0.0  0.0  0.0  1.0  0.0  0.0   \n",
       "\n",
       "    NV    T annotator_id media_file  \n",
       "0  0.0  1.0            I   24ma.wav  \n",
       "1  0.0  1.0            I   24ma.wav  \n",
       "2  0.0  1.0            I   24ma.wav  \n",
       "3  0.0  1.0            I   24ma.wav  \n",
       "4  0.0  0.0            I   24ma.wav  "
      ]
     },
     "execution_count": 2,
     "metadata": {},
     "output_type": "execute_result"
    }
   ],
   "source": [
    "# read temp labels and organize them\n",
    "import pandas as pd\n",
    "df = pd.read_csv('../datasets/fluencybank/labels_temp.csv')\n",
    "df.head()"
   ]
  },
  {
   "cell_type": "code",
   "execution_count": 3,
   "metadata": {},
   "outputs": [
    {
     "data": {
      "text/html": [
       "<div>\n",
       "<style scoped>\n",
       "    .dataframe tbody tr th:only-of-type {\n",
       "        vertical-align: middle;\n",
       "    }\n",
       "\n",
       "    .dataframe tbody tr th {\n",
       "        vertical-align: top;\n",
       "    }\n",
       "\n",
       "    .dataframe thead th {\n",
       "        text-align: right;\n",
       "    }\n",
       "</style>\n",
       "<table border=\"1\" class=\"dataframe\">\n",
       "  <thead>\n",
       "    <tr style=\"text-align: right;\">\n",
       "      <th></th>\n",
       "      <th>annotation_id</th>\n",
       "      <th>start_time</th>\n",
       "      <th>end_time</th>\n",
       "      <th>RM</th>\n",
       "      <th>FP</th>\n",
       "      <th>SR</th>\n",
       "      <th>ISR</th>\n",
       "      <th>MUR</th>\n",
       "      <th>P</th>\n",
       "      <th>B</th>\n",
       "      <th>V</th>\n",
       "      <th>NV</th>\n",
       "      <th>T</th>\n",
       "      <th>annotator_id</th>\n",
       "      <th>media_file</th>\n",
       "    </tr>\n",
       "  </thead>\n",
       "  <tbody>\n",
       "    <tr>\n",
       "      <th>0</th>\n",
       "      <td>a58</td>\n",
       "      <td>1520</td>\n",
       "      <td>2360</td>\n",
       "      <td>0.0</td>\n",
       "      <td>0.0</td>\n",
       "      <td>0.0</td>\n",
       "      <td>0.0</td>\n",
       "      <td>0.0</td>\n",
       "      <td>1.0</td>\n",
       "      <td>0.0</td>\n",
       "      <td>0.0</td>\n",
       "      <td>0.0</td>\n",
       "      <td>1.0</td>\n",
       "      <td>I</td>\n",
       "      <td>24ma.wav</td>\n",
       "    </tr>\n",
       "    <tr>\n",
       "      <th>37</th>\n",
       "      <td>a58</td>\n",
       "      <td>1750</td>\n",
       "      <td>2400</td>\n",
       "      <td>0.0</td>\n",
       "      <td>0.0</td>\n",
       "      <td>0.0</td>\n",
       "      <td>0.0</td>\n",
       "      <td>0.0</td>\n",
       "      <td>1.0</td>\n",
       "      <td>0.0</td>\n",
       "      <td>0.0</td>\n",
       "      <td>0.0</td>\n",
       "      <td>0.0</td>\n",
       "      <td>R</td>\n",
       "      <td>24ma.wav</td>\n",
       "    </tr>\n",
       "    <tr>\n",
       "      <th>15</th>\n",
       "      <td>a58</td>\n",
       "      <td>1800</td>\n",
       "      <td>2390</td>\n",
       "      <td>0.0</td>\n",
       "      <td>0.0</td>\n",
       "      <td>0.0</td>\n",
       "      <td>0.0</td>\n",
       "      <td>0.0</td>\n",
       "      <td>1.0</td>\n",
       "      <td>0.0</td>\n",
       "      <td>0.0</td>\n",
       "      <td>0.0</td>\n",
       "      <td>0.0</td>\n",
       "      <td>A</td>\n",
       "      <td>24ma.wav</td>\n",
       "    </tr>\n",
       "    <tr>\n",
       "      <th>1</th>\n",
       "      <td>a59</td>\n",
       "      <td>2660</td>\n",
       "      <td>3440</td>\n",
       "      <td>0.0</td>\n",
       "      <td>0.0</td>\n",
       "      <td>0.0</td>\n",
       "      <td>0.0</td>\n",
       "      <td>0.0</td>\n",
       "      <td>1.0</td>\n",
       "      <td>0.0</td>\n",
       "      <td>0.0</td>\n",
       "      <td>0.0</td>\n",
       "      <td>1.0</td>\n",
       "      <td>I</td>\n",
       "      <td>24ma.wav</td>\n",
       "    </tr>\n",
       "    <tr>\n",
       "      <th>38</th>\n",
       "      <td>a59</td>\n",
       "      <td>2680</td>\n",
       "      <td>3480</td>\n",
       "      <td>0.0</td>\n",
       "      <td>0.0</td>\n",
       "      <td>0.0</td>\n",
       "      <td>0.0</td>\n",
       "      <td>0.0</td>\n",
       "      <td>1.0</td>\n",
       "      <td>0.0</td>\n",
       "      <td>0.0</td>\n",
       "      <td>0.0</td>\n",
       "      <td>0.0</td>\n",
       "      <td>R</td>\n",
       "      <td>24ma.wav</td>\n",
       "    </tr>\n",
       "  </tbody>\n",
       "</table>\n",
       "</div>"
      ],
      "text/plain": [
       "   annotation_id  start_time  end_time   RM   FP   SR  ISR  MUR    P    B  \\\n",
       "0            a58        1520      2360  0.0  0.0  0.0  0.0  0.0  1.0  0.0   \n",
       "37           a58        1750      2400  0.0  0.0  0.0  0.0  0.0  1.0  0.0   \n",
       "15           a58        1800      2390  0.0  0.0  0.0  0.0  0.0  1.0  0.0   \n",
       "1            a59        2660      3440  0.0  0.0  0.0  0.0  0.0  1.0  0.0   \n",
       "38           a59        2680      3480  0.0  0.0  0.0  0.0  0.0  1.0  0.0   \n",
       "\n",
       "      V   NV    T annotator_id media_file  \n",
       "0   0.0  0.0  1.0            I   24ma.wav  \n",
       "37  0.0  0.0  0.0            R   24ma.wav  \n",
       "15  0.0  0.0  0.0            A   24ma.wav  \n",
       "1   0.0  0.0  1.0            I   24ma.wav  \n",
       "38  0.0  0.0  0.0            R   24ma.wav  "
      ]
     },
     "execution_count": 3,
     "metadata": {},
     "output_type": "execute_result"
    }
   ],
   "source": [
    "# sort by start time\n",
    "df = df.sort_values(['start_time', 'end_time'])\n",
    "df.head()"
   ]
  },
  {
   "cell_type": "code",
   "execution_count": null,
   "metadata": {},
   "outputs": [],
   "source": []
  }
 ],
 "metadata": {
  "kernelspec": {
   "display_name": "sep",
   "language": "python",
   "name": "python3"
  },
  "language_info": {
   "codemirror_mode": {
    "name": "ipython",
    "version": 3
   },
   "file_extension": ".py",
   "mimetype": "text/x-python",
   "name": "python",
   "nbconvert_exporter": "python",
   "pygments_lexer": "ipython3",
   "version": "3.10.14"
  }
 },
 "nbformat": 4,
 "nbformat_minor": 2
}
