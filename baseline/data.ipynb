{
 "cells": [
  {
   "cell_type": "code",
   "execution_count": 1,
   "metadata": {},
   "outputs": [],
   "source": [
    "import pandas as pd\n",
    "import numpy as np"
   ]
  },
  {
   "cell_type": "markdown",
   "metadata": {},
   "source": [
    "## Sep28k"
   ]
  },
  {
   "cell_type": "code",
   "execution_count": 2,
   "metadata": {},
   "outputs": [],
   "source": [
    "df = pd.read_csv('../datasets/sep28k/SEP-28k_labels_new.csv')"
   ]
  },
  {
   "cell_type": "code",
   "execution_count": 3,
   "metadata": {},
   "outputs": [
    {
     "name": "stdout",
     "output_type": "stream",
     "text": [
      "Fleiss' Kappa for category Unsure: 0.02\n",
      "Fleiss' Kappa for category PoorAudioQuality: 0.19\n",
      "Fleiss' Kappa for category Prolongation: 0.24\n",
      "Fleiss' Kappa for category Block: 0.12\n",
      "Fleiss' Kappa for category SoundRep: 0.41\n",
      "Fleiss' Kappa for category WordRep: 0.64\n",
      "Fleiss' Kappa for category DifficultToUnderstand: 0.16\n",
      "Fleiss' Kappa for category Interjection: 0.57\n",
      "Fleiss' Kappa for category NoStutteredWords: 0.40\n",
      "Fleiss' Kappa for category NaturalPause: 0.09\n",
      "Fleiss' Kappa for category Music: 0.80\n"
     ]
    }
   ],
   "source": [
    "from statsmodels.stats import inter_rater as irr\n",
    "label_df = df.iloc[:,5:-1]\n",
    "def calculate_agreement(label_df):\n",
    "    for col in label_df.columns:\n",
    "        temp = pd.DataFrame()\n",
    "        temp['pos'] = label_df[col]\n",
    "        temp['neg'] = temp['pos'].apply(lambda x: 3-x )\n",
    "        # compute Fleiss' Kappa for the current category\n",
    "        fleiss_kappa = irr.fleiss_kappa(temp.values, method='fleiss')\n",
    "        print(f\"Fleiss' Kappa for category {col}: {fleiss_kappa:.2f}\")\n",
    "calculate_agreement(label_df)"
   ]
  },
  {
   "cell_type": "code",
   "execution_count": 4,
   "metadata": {},
   "outputs": [
    {
     "data": {
      "text/plain": [
       "split\n",
       "train    19451\n",
       "val       1684\n",
       "test       721\n",
       "Name: count, dtype: int64"
      ]
     },
     "execution_count": 4,
     "metadata": {},
     "output_type": "execute_result"
    }
   ],
   "source": [
    "from sklearn.model_selection import train_test_split\n",
    "\n",
    "df['split'] = 'train'\n",
    "df.loc[train_test_split(df.index, test_size=0.11, random_state=42)[1], 'split'] = 'temp'\n",
    "df.loc[train_test_split(df[df['split'] == 'temp'].index, test_size=0.7, random_state=42)[1], 'split'] = 'val'\n",
    "df['split'] = df['split'].replace('temp', 'test')\n",
    "df['split'].value_counts()"
   ]
  },
  {
   "cell_type": "code",
   "execution_count": 5,
   "metadata": {},
   "outputs": [],
   "source": [
    "df.to_csv('../outputs/sep28k/SEP-28k_labels_new_split.csv', index=False)"
   ]
  },
  {
   "cell_type": "markdown",
   "metadata": {},
   "source": [
    "## Fluencybank"
   ]
  },
  {
   "cell_type": "code",
   "execution_count": 10,
   "metadata": {},
   "outputs": [
    {
     "name": "stdout",
     "output_type": "stream",
     "text": [
      "Fleiss' Kappa for category Unsure: 0.07\n",
      "Fleiss' Kappa for category PoorAudioQuality: nan\n",
      "Fleiss' Kappa for category Prolongation: 0.35\n",
      "Fleiss' Kappa for category Block: 0.15\n",
      "Fleiss' Kappa for category SoundRep: 0.39\n",
      "Fleiss' Kappa for category WordRep: 0.50\n",
      "Fleiss' Kappa for category DifficultToUnderstand: 0.23\n",
      "Fleiss' Kappa for category Interjection: 0.58\n",
      "Fleiss' Kappa for category NoStutteredWords: 0.54\n",
      "Fleiss' Kappa for category NaturalPause: 0.05\n",
      "Fleiss' Kappa for category Music: nan\n"
     ]
    },
    {
     "name": "stderr",
     "output_type": "stream",
     "text": [
      "/fsx/homes/Rufael.Marew@mbzuai.ac.ae/miniconda3/envs/sep/lib/python3.10/site-packages/statsmodels/stats/inter_rater.py:266: RuntimeWarning: invalid value encountered in scalar divide\n",
      "  kappa = (p_mean - p_mean_exp) / (1- p_mean_exp)\n",
      "/fsx/homes/Rufael.Marew@mbzuai.ac.ae/miniconda3/envs/sep/lib/python3.10/site-packages/statsmodels/stats/inter_rater.py:266: RuntimeWarning: invalid value encountered in scalar divide\n",
      "  kappa = (p_mean - p_mean_exp) / (1- p_mean_exp)\n"
     ]
    },
    {
     "data": {
      "text/plain": [
       "split\n",
       "train    3354\n",
       "val       297\n",
       "test      296\n",
       "Name: count, dtype: int64"
      ]
     },
     "execution_count": 10,
     "metadata": {},
     "output_type": "execute_result"
    }
   ],
   "source": [
    "# read the data\n",
    "import pandas as pd\n",
    "import numpy as np\n",
    "df = pd.read_csv('../datasets/fluencybank/fluencybank_labels_new.csv')\n",
    "calculate_agreement(df.iloc[:,5:-1])\n",
    "\n",
    "# unique_clips = df['EpId'].unique()\n",
    "# np.random.shuffle(unique_clips) \n",
    "# df['split'] = df['EpId'].apply(lambda x: 'train' if x in unique_clips[:26] else 'val' if x in unique_clips[26:29] else 'test')\n",
    "\n",
    "df['split'] = 'train'\n",
    "df.loc[train_test_split(df.index, test_size=0.15, random_state=42)[1], 'split'] = 'temp'\n",
    "df.loc[train_test_split(df[df['split'] == 'temp'].index, test_size=0.5, random_state=42)[1], 'split'] = 'val'\n",
    "df['split'] = df['split'].replace('temp', 'test')\n",
    "\n",
    "df['split'].value_counts()"
   ]
  },
  {
   "cell_type": "code",
   "execution_count": 11,
   "metadata": {},
   "outputs": [],
   "source": [
    "df.to_csv('../outputs/fluencybank/fluencybank_labels_new_split.csv', index=False)"
   ]
  },
  {
   "cell_type": "code",
   "execution_count": null,
   "metadata": {},
   "outputs": [],
   "source": []
  }
 ],
 "metadata": {
  "kernelspec": {
   "display_name": "sep",
   "language": "python",
   "name": "python3"
  },
  "language_info": {
   "codemirror_mode": {
    "name": "ipython",
    "version": 3
   },
   "file_extension": ".py",
   "mimetype": "text/x-python",
   "name": "python",
   "nbconvert_exporter": "python",
   "pygments_lexer": "ipython3",
   "version": "3.10.14"
  }
 },
 "nbformat": 4,
 "nbformat_minor": 2
}
